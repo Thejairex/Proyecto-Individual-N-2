{
 "cells": [
  {
   "cell_type": "markdown",
   "metadata": {},
   "source": [
    "# Ingresos\n"
   ]
  },
  {
   "cell_type": "code",
   "execution_count": 2,
   "metadata": {},
   "outputs": [],
   "source": [
    "import pandas as pd \n",
    "import matplotlib.pyplot as plt\n",
    "import seaborn as sns"
   ]
  },
  {
   "cell_type": "markdown",
   "metadata": {},
   "source": [
    "# ETL"
   ]
  },
  {
   "cell_type": "markdown",
   "metadata": {},
   "source": [
    "Importamos el dataset de `ingresos` a utilizar.\n"
   ]
  },
  {
   "cell_type": "code",
   "execution_count": 3,
   "metadata": {},
   "outputs": [],
   "source": [
    "ingresos = pd.read_csv('../Datasets/Ingresos.csv')"
   ]
  },
  {
   "cell_type": "markdown",
   "metadata": {},
   "source": [
    "Vemos los primeros datos del dataframe."
   ]
  },
  {
   "cell_type": "code",
   "execution_count": 4,
   "metadata": {},
   "outputs": [
    {
     "data": {
      "text/html": [
       "<div>\n",
       "<style scoped>\n",
       "    .dataframe tbody tr th:only-of-type {\n",
       "        vertical-align: middle;\n",
       "    }\n",
       "\n",
       "    .dataframe tbody tr th {\n",
       "        vertical-align: top;\n",
       "    }\n",
       "\n",
       "    .dataframe thead th {\n",
       "        text-align: right;\n",
       "    }\n",
       "</style>\n",
       "<table border=\"1\" class=\"dataframe\">\n",
       "  <thead>\n",
       "    <tr style=\"text-align: right;\">\n",
       "      <th></th>\n",
       "      <th>Año</th>\n",
       "      <th>Trimestre</th>\n",
       "      <th>Ingresos (miles de pesos)</th>\n",
       "      <th>Periodo</th>\n",
       "    </tr>\n",
       "  </thead>\n",
       "  <tbody>\n",
       "    <tr>\n",
       "      <th>0</th>\n",
       "      <td>2023</td>\n",
       "      <td>4</td>\n",
       "      <td>1.673760e+08</td>\n",
       "      <td>Oct-Dic 2023</td>\n",
       "    </tr>\n",
       "    <tr>\n",
       "      <th>1</th>\n",
       "      <td>2023</td>\n",
       "      <td>3</td>\n",
       "      <td>1.331066e+08</td>\n",
       "      <td>Jul-Sept 2023</td>\n",
       "    </tr>\n",
       "    <tr>\n",
       "      <th>2</th>\n",
       "      <td>2023</td>\n",
       "      <td>2</td>\n",
       "      <td>1.180603e+08</td>\n",
       "      <td>Jun-Mar 2023</td>\n",
       "    </tr>\n",
       "    <tr>\n",
       "      <th>3</th>\n",
       "      <td>2033</td>\n",
       "      <td>1</td>\n",
       "      <td>1.041350e+08</td>\n",
       "      <td>Ene-Mar 2023</td>\n",
       "    </tr>\n",
       "    <tr>\n",
       "      <th>4</th>\n",
       "      <td>2022</td>\n",
       "      <td>4</td>\n",
       "      <td>7.244348e+07</td>\n",
       "      <td>Oct-Dic 2022</td>\n",
       "    </tr>\n",
       "    <tr>\n",
       "      <th>5</th>\n",
       "      <td>2022</td>\n",
       "      <td>3</td>\n",
       "      <td>6.408678e+07</td>\n",
       "      <td>Jul-Sept 2022</td>\n",
       "    </tr>\n",
       "    <tr>\n",
       "      <th>6</th>\n",
       "      <td>2022</td>\n",
       "      <td>2</td>\n",
       "      <td>6.041950e+07</td>\n",
       "      <td>Abr-Jun 2022</td>\n",
       "    </tr>\n",
       "    <tr>\n",
       "      <th>7</th>\n",
       "      <td>2022</td>\n",
       "      <td>1</td>\n",
       "      <td>5.521931e+07</td>\n",
       "      <td>Ene-Mar 2022</td>\n",
       "    </tr>\n",
       "    <tr>\n",
       "      <th>8</th>\n",
       "      <td>2021</td>\n",
       "      <td>4</td>\n",
       "      <td>4.546789e+07</td>\n",
       "      <td>Oct-Dic 2021</td>\n",
       "    </tr>\n",
       "    <tr>\n",
       "      <th>9</th>\n",
       "      <td>2021</td>\n",
       "      <td>3</td>\n",
       "      <td>4.299994e+07</td>\n",
       "      <td>Jul-Sept 2021</td>\n",
       "    </tr>\n",
       "    <tr>\n",
       "      <th>10</th>\n",
       "      <td>2021</td>\n",
       "      <td>2</td>\n",
       "      <td>3.823967e+07</td>\n",
       "      <td>Abr-Jun 2021</td>\n",
       "    </tr>\n",
       "    <tr>\n",
       "      <th>11</th>\n",
       "      <td>2021</td>\n",
       "      <td>1</td>\n",
       "      <td>3.667637e+07</td>\n",
       "      <td>Ene-Mar 2021</td>\n",
       "    </tr>\n",
       "    <tr>\n",
       "      <th>12</th>\n",
       "      <td>2020</td>\n",
       "      <td>4</td>\n",
       "      <td>3.353970e+07</td>\n",
       "      <td>Oct-Dic 2020</td>\n",
       "    </tr>\n",
       "    <tr>\n",
       "      <th>13</th>\n",
       "      <td>2020</td>\n",
       "      <td>3</td>\n",
       "      <td>3.199744e+07</td>\n",
       "      <td>Jul-Sept 2020</td>\n",
       "    </tr>\n",
       "    <tr>\n",
       "      <th>14</th>\n",
       "      <td>2020</td>\n",
       "      <td>2</td>\n",
       "      <td>3.210248e+07</td>\n",
       "      <td>Abr-Jun 2020</td>\n",
       "    </tr>\n",
       "  </tbody>\n",
       "</table>\n",
       "</div>"
      ],
      "text/plain": [
       "     Año  Trimestre  Ingresos (miles de pesos)        Periodo\n",
       "0   2023          4               1.673760e+08   Oct-Dic 2023\n",
       "1   2023          3               1.331066e+08  Jul-Sept 2023\n",
       "2   2023          2               1.180603e+08   Jun-Mar 2023\n",
       "3   2033          1               1.041350e+08   Ene-Mar 2023\n",
       "4   2022          4               7.244348e+07   Oct-Dic 2022\n",
       "5   2022          3               6.408678e+07  Jul-Sept 2022\n",
       "6   2022          2               6.041950e+07   Abr-Jun 2022\n",
       "7   2022          1               5.521931e+07   Ene-Mar 2022\n",
       "8   2021          4               4.546789e+07   Oct-Dic 2021\n",
       "9   2021          3               4.299994e+07  Jul-Sept 2021\n",
       "10  2021          2               3.823967e+07   Abr-Jun 2021\n",
       "11  2021          1               3.667637e+07   Ene-Mar 2021\n",
       "12  2020          4               3.353970e+07   Oct-Dic 2020\n",
       "13  2020          3               3.199744e+07  Jul-Sept 2020\n",
       "14  2020          2               3.210248e+07   Abr-Jun 2020"
      ]
     },
     "execution_count": 4,
     "metadata": {},
     "output_type": "execute_result"
    }
   ],
   "source": [
    "ingresos.head(15)"
   ]
  },
  {
   "cell_type": "markdown",
   "metadata": {},
   "source": [
    "Tenemos un error de entrada en el dataset de ingresos en el indice 3 donde el año es superior a 2023. Por lo tanto lo modificaremos a 2023 verificando que sea el unico. "
   ]
  },
  {
   "cell_type": "code",
   "execution_count": 5,
   "metadata": {},
   "outputs": [
    {
     "name": "stdout",
     "output_type": "stream",
     "text": [
      "    Año  Trimestre  Ingresos (miles de pesos)       Periodo\n",
      "3  2033          1               1.041350e+08  Ene-Mar 2023\n"
     ]
    },
    {
     "data": {
      "text/html": [
       "<div>\n",
       "<style scoped>\n",
       "    .dataframe tbody tr th:only-of-type {\n",
       "        vertical-align: middle;\n",
       "    }\n",
       "\n",
       "    .dataframe tbody tr th {\n",
       "        vertical-align: top;\n",
       "    }\n",
       "\n",
       "    .dataframe thead th {\n",
       "        text-align: right;\n",
       "    }\n",
       "</style>\n",
       "<table border=\"1\" class=\"dataframe\">\n",
       "  <thead>\n",
       "    <tr style=\"text-align: right;\">\n",
       "      <th></th>\n",
       "      <th>Año</th>\n",
       "      <th>Trimestre</th>\n",
       "      <th>Ingresos (miles de pesos)</th>\n",
       "      <th>Periodo</th>\n",
       "    </tr>\n",
       "  </thead>\n",
       "  <tbody>\n",
       "    <tr>\n",
       "      <th>0</th>\n",
       "      <td>2023</td>\n",
       "      <td>4</td>\n",
       "      <td>1.673760e+08</td>\n",
       "      <td>Oct-Dic 2023</td>\n",
       "    </tr>\n",
       "    <tr>\n",
       "      <th>1</th>\n",
       "      <td>2023</td>\n",
       "      <td>3</td>\n",
       "      <td>1.331066e+08</td>\n",
       "      <td>Jul-Sept 2023</td>\n",
       "    </tr>\n",
       "    <tr>\n",
       "      <th>2</th>\n",
       "      <td>2023</td>\n",
       "      <td>2</td>\n",
       "      <td>1.180603e+08</td>\n",
       "      <td>Jun-Mar 2023</td>\n",
       "    </tr>\n",
       "    <tr>\n",
       "      <th>3</th>\n",
       "      <td>2023</td>\n",
       "      <td>1</td>\n",
       "      <td>1.041350e+08</td>\n",
       "      <td>Ene-Mar 2023</td>\n",
       "    </tr>\n",
       "    <tr>\n",
       "      <th>4</th>\n",
       "      <td>2022</td>\n",
       "      <td>4</td>\n",
       "      <td>7.244348e+07</td>\n",
       "      <td>Oct-Dic 2022</td>\n",
       "    </tr>\n",
       "  </tbody>\n",
       "</table>\n",
       "</div>"
      ],
      "text/plain": [
       "    Año  Trimestre  Ingresos (miles de pesos)        Periodo\n",
       "0  2023          4               1.673760e+08   Oct-Dic 2023\n",
       "1  2023          3               1.331066e+08  Jul-Sept 2023\n",
       "2  2023          2               1.180603e+08   Jun-Mar 2023\n",
       "3  2023          1               1.041350e+08   Ene-Mar 2023\n",
       "4  2022          4               7.244348e+07   Oct-Dic 2022"
      ]
     },
     "execution_count": 5,
     "metadata": {},
     "output_type": "execute_result"
    }
   ],
   "source": [
    "print(ingresos[ingresos[\"Año\"] > 2023])\n",
    "ingresos.loc[3, \"Año\"] = 2023\n",
    "ingresos.head()"
   ]
  },
  {
   "cell_type": "markdown",
   "metadata": {},
   "source": [
    "Con este dataframe ya no hay datos erroneos podemos continuar al EDA."
   ]
  },
  {
   "cell_type": "markdown",
   "metadata": {},
   "source": [
    "# EDA"
   ]
  },
  {
   "cell_type": "markdown",
   "metadata": {},
   "source": [
    "Verificamos los datos para comprobar que no hay nulos ni duplicados en el dataset."
   ]
  },
  {
   "cell_type": "code",
   "execution_count": 6,
   "metadata": {},
   "outputs": [
    {
     "name": "stdout",
     "output_type": "stream",
     "text": [
      "total de nulos:  0\n",
      "total de duplicados:  0\n"
     ]
    }
   ],
   "source": [
    "print(\"total de nulos: \", ingresos.isnull().sum().sum())\n",
    "print(\"total de duplicados: \", ingresos.duplicated().sum().sum())"
   ]
  },
  {
   "cell_type": "markdown",
   "metadata": {},
   "source": [
    "Afortunadamente no hay duplicados ni nulos. Por lo que podemos continuar con los outliers."
   ]
  },
  {
   "cell_type": "markdown",
   "metadata": {},
   "source": [
    "## Outliers"
   ]
  },
  {
   "cell_type": "markdown",
   "metadata": {},
   "source": [
    "### Ingresos."
   ]
  },
  {
   "cell_type": "markdown",
   "metadata": {},
   "source": [
    "Ahora veremos los outliers del dataframe de ingresos"
   ]
  },
  {
   "cell_type": "code",
   "execution_count": 7,
   "metadata": {},
   "outputs": [
    {
     "data": {
      "image/png": "[encoded data removed]",
      "text/plain": [
       "<Figure size 800x600 with 1 Axes>"
      ]
     },
     "metadata": {},
     "output_type": "display_data"
    }
   ],
   "source": [
    "plt.figure(figsize=(8, 6))\n",
    "sns.boxplot(ingresos, x=\"Ingresos (miles de pesos)\", flierprops={\n",
    "            'marker': 'o', 'markerfacecolor': 'red', 'alpha': 0.5}, fliersize=10)\n",
    "plt.title('Boxplot Ingresos')\n",
    "\n",
    "plt.show()"
   ]
  },
  {
   "cell_type": "markdown",
   "metadata": {},
   "source": [
    "Por lo que vemos son pocos outliers, veamos cuales son. \n",
    "\n",
    "Usaremos la funcion `outliers_iqr` para detectar los outliers a traves de sus cuartiles y limites."
   ]
  },
  {
   "cell_type": "code",
   "execution_count": 8,
   "metadata": {},
   "outputs": [],
   "source": [
    "def outliers_iqr(column: pd.Series) -> tuple:\n",
    "    q1, q3 = column.quantile(0.25), column.quantile(0.75)\n",
    "    iqr = q3 - q1\n",
    "    \n",
    "    top = q3 + 1.5 * iqr\n",
    "    bot = q3 - 1.5 * iqr\n",
    "    \n",
    "    return ((column < bot) | (column > top))"
   ]
  },
  {
   "cell_type": "code",
   "execution_count": 9,
   "metadata": {},
   "outputs": [
    {
     "data": {
      "text/html": [
       "<div>\n",
       "<style scoped>\n",
       "    .dataframe tbody tr th:only-of-type {\n",
       "        vertical-align: middle;\n",
       "    }\n",
       "\n",
       "    .dataframe tbody tr th {\n",
       "        vertical-align: top;\n",
       "    }\n",
       "\n",
       "    .dataframe thead th {\n",
       "        text-align: right;\n",
       "    }\n",
       "</style>\n",
       "<table border=\"1\" class=\"dataframe\">\n",
       "  <thead>\n",
       "    <tr style=\"text-align: right;\">\n",
       "      <th></th>\n",
       "      <th>Año</th>\n",
       "      <th>Trimestre</th>\n",
       "      <th>Ingresos (miles de pesos)</th>\n",
       "      <th>Periodo</th>\n",
       "    </tr>\n",
       "  </thead>\n",
       "  <tbody>\n",
       "    <tr>\n",
       "      <th>0</th>\n",
       "      <td>2023</td>\n",
       "      <td>4</td>\n",
       "      <td>1.673760e+08</td>\n",
       "      <td>Oct-Dic 2023</td>\n",
       "    </tr>\n",
       "    <tr>\n",
       "      <th>1</th>\n",
       "      <td>2023</td>\n",
       "      <td>3</td>\n",
       "      <td>1.331066e+08</td>\n",
       "      <td>Jul-Sept 2023</td>\n",
       "    </tr>\n",
       "    <tr>\n",
       "      <th>2</th>\n",
       "      <td>2023</td>\n",
       "      <td>2</td>\n",
       "      <td>1.180603e+08</td>\n",
       "      <td>Jun-Mar 2023</td>\n",
       "    </tr>\n",
       "    <tr>\n",
       "      <th>3</th>\n",
       "      <td>2023</td>\n",
       "      <td>1</td>\n",
       "      <td>1.041350e+08</td>\n",
       "      <td>Ene-Mar 2023</td>\n",
       "    </tr>\n",
       "  </tbody>\n",
       "</table>\n",
       "</div>"
      ],
      "text/plain": [
       "    Año  Trimestre  Ingresos (miles de pesos)        Periodo\n",
       "0  2023          4               1.673760e+08   Oct-Dic 2023\n",
       "1  2023          3               1.331066e+08  Jul-Sept 2023\n",
       "2  2023          2               1.180603e+08   Jun-Mar 2023\n",
       "3  2023          1               1.041350e+08   Ene-Mar 2023"
      ]
     },
     "execution_count": 9,
     "metadata": {},
     "output_type": "execute_result"
    }
   ],
   "source": [
    "outlier_ingreso = outliers_iqr(ingresos[\"Ingresos (miles de pesos)\"])\n",
    "ingresos[outlier_ingreso]"
   ]
  },
  {
   "cell_type": "markdown",
   "metadata": {},
   "source": [
    "Estos datos se consideran outliers debido a la diferencia de los otros años, con el dataset de tecnologias vimos que estan creciendo bastante en las provincias principales y el aumento de las fibras opticas apoya este crecimiento. Pero esta exageracion del crecimiento de los ingresos es principalmente por inflacion que ha pasado el pais."
   ]
  },
  {
   "cell_type": "markdown",
   "metadata": {},
   "source": [
    "# Graficos"
   ]
  },
  {
   "cell_type": "code",
   "execution_count": 11,
   "metadata": {},
   "outputs": [
    {
     "data": {
      "image/png": "[encoded data removed]",
      "text/plain": [
       "<Figure size 1000x600 with 1 Axes>"
      ]
     },
     "metadata": {},
     "output_type": "display_data"
    }
   ],
   "source": [
    "promedio_ingreso_anio = ingresos.groupby('Año').agg({'Trimestre': 'mean', 'Ingresos (miles de pesos)': 'mean'})\n",
    "\n",
    "\n",
    "plt.figure(figsize=(10, 6))\n",
    "\n",
    "sns.lineplot(x=promedio_ingreso_anio.index, data=promedio_ingreso_anio,  y=\"Ingresos (miles de pesos)\", label='Ingresos en pesos', marker='o')\n",
    "plt.title('Total de Ingresos por año')\n",
    "plt.xlabel('Año')\n",
    "plt.ylabel('Ingresos (miles de pesos)')\n",
    "plt.xticks(promedio_ingreso_anio.index)\n",
    "plt.grid(True)\n",
    "plt.legend()\n",
    "\n",
    "plt.tight_layout()\n",
    "plt.show()"
   ]
  },
  {
   "cell_type": "markdown",
   "metadata": {},
   "source": [
    "# Guardar los datos"
   ]
  },
  {
   "cell_type": "code",
   "execution_count": 12,
   "metadata": {},
   "outputs": [],
   "source": [
    "ingresos.to_csv('../Datasets/Cleans/Ingresos.csv', index=False)"
   ]
  }
 ],
 "metadata": {
  "kernelspec": {
   "display_name": "venv",
   "language": "python",
   "name": "python3"
  },
  "language_info": {
   "codemirror_mode": {
    "name": "ipython",
    "version": 3
   },
   "file_extension": ".py",
   "mimetype": "text/x-python",
   "name": "python",
   "nbconvert_exporter": "python",
   "pygments_lexer": "ipython3",
   "version": "3.12.3"
  }
 },
 "nbformat": 4,
 "nbformat_minor": 2
}
