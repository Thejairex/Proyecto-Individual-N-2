{
 "cells": [
  {
   "cell_type": "markdown",
   "metadata": {},
   "source": [
    "# Titulo\n"
   ]
  },
  {
   "cell_type": "code",
   "execution_count": 12,
   "metadata": {},
   "outputs": [],
   "source": [
    "import pandas as pd \n",
    "import matplotlib.pyplot as plt"
   ]
  },
  {
   "cell_type": "markdown",
   "metadata": {},
   "source": [
    "# ETL"
   ]
  },
  {
   "cell_type": "markdown",
   "metadata": {},
   "source": [
    "Cargamos los datasets"
   ]
  },
  {
   "cell_type": "code",
   "execution_count": 29,
   "metadata": {},
   "outputs": [],
   "source": [
    "df = pd.read_csv('../Datasets/Penetracion-hogares.csv')\n",
    "df2 = pd.read_csv('../Datasets/Penetración-poblacion.csv')\n",
    "\n",
    "df = pd.merge(df, df2, on=['Año', 'Trimestre', 'Provincia'])"
   ]
  },
  {
   "cell_type": "markdown",
   "metadata": {},
   "source": [
    "Comprobamos si contiene datos nulos o duplicados"
   ]
  },
  {
   "cell_type": "code",
   "execution_count": 35,
   "metadata": {},
   "outputs": [
    {
     "name": "stdout",
     "output_type": "stream",
     "text": [
      "Total de observaciones:  960\n",
      "Total de nulos:  0\n",
      "Total de duplicados 0\n"
     ]
    },
    {
     "data": {
      "text/html": [
       "<div>\n",
       "<style scoped>\n",
       "    .dataframe tbody tr th:only-of-type {\n",
       "        vertical-align: middle;\n",
       "    }\n",
       "\n",
       "    .dataframe tbody tr th {\n",
       "        vertical-align: top;\n",
       "    }\n",
       "\n",
       "    .dataframe thead th {\n",
       "        text-align: right;\n",
       "    }\n",
       "</style>\n",
       "<table border=\"1\" class=\"dataframe\">\n",
       "  <thead>\n",
       "    <tr style=\"text-align: right;\">\n",
       "      <th></th>\n",
       "      <th>Año</th>\n",
       "      <th>Trimestre</th>\n",
       "      <th>Accesos por cada 100 hogares</th>\n",
       "      <th>Accesos por cada 100 hab</th>\n",
       "    </tr>\n",
       "  </thead>\n",
       "  <tbody>\n",
       "    <tr>\n",
       "      <th>count</th>\n",
       "      <td>960.000000</td>\n",
       "      <td>960.000000</td>\n",
       "      <td>960.000000</td>\n",
       "      <td>960.000000</td>\n",
       "    </tr>\n",
       "    <tr>\n",
       "      <th>mean</th>\n",
       "      <td>2018.500000</td>\n",
       "      <td>2.500000</td>\n",
       "      <td>51.662405</td>\n",
       "      <td>15.394079</td>\n",
       "    </tr>\n",
       "    <tr>\n",
       "      <th>std</th>\n",
       "      <td>2.873778</td>\n",
       "      <td>1.118617</td>\n",
       "      <td>23.898192</td>\n",
       "      <td>9.168959</td>\n",
       "    </tr>\n",
       "    <tr>\n",
       "      <th>min</th>\n",
       "      <td>2014.000000</td>\n",
       "      <td>1.000000</td>\n",
       "      <td>9.347208</td>\n",
       "      <td>2.684669</td>\n",
       "    </tr>\n",
       "    <tr>\n",
       "      <th>25%</th>\n",
       "      <td>2016.000000</td>\n",
       "      <td>1.750000</td>\n",
       "      <td>32.856870</td>\n",
       "      <td>8.764189</td>\n",
       "    </tr>\n",
       "    <tr>\n",
       "      <th>50%</th>\n",
       "      <td>2018.500000</td>\n",
       "      <td>2.500000</td>\n",
       "      <td>48.817167</td>\n",
       "      <td>13.417453</td>\n",
       "    </tr>\n",
       "    <tr>\n",
       "      <th>75%</th>\n",
       "      <td>2021.000000</td>\n",
       "      <td>3.250000</td>\n",
       "      <td>65.116858</td>\n",
       "      <td>19.657928</td>\n",
       "    </tr>\n",
       "    <tr>\n",
       "      <th>max</th>\n",
       "      <td>2023.000000</td>\n",
       "      <td>4.000000</td>\n",
       "      <td>124.061394</td>\n",
       "      <td>52.236739</td>\n",
       "    </tr>\n",
       "  </tbody>\n",
       "</table>\n",
       "</div>"
      ],
      "text/plain": [
       "               Año   Trimestre  Accesos por cada 100 hogares  \\\n",
       "count   960.000000  960.000000                    960.000000   \n",
       "mean   2018.500000    2.500000                     51.662405   \n",
       "std       2.873778    1.118617                     23.898192   \n",
       "min    2014.000000    1.000000                      9.347208   \n",
       "25%    2016.000000    1.750000                     32.856870   \n",
       "50%    2018.500000    2.500000                     48.817167   \n",
       "75%    2021.000000    3.250000                     65.116858   \n",
       "max    2023.000000    4.000000                    124.061394   \n",
       "\n",
       "       Accesos por cada 100 hab  \n",
       "count                960.000000  \n",
       "mean                  15.394079  \n",
       "std                    9.168959  \n",
       "min                    2.684669  \n",
       "25%                    8.764189  \n",
       "50%                   13.417453  \n",
       "75%                   19.657928  \n",
       "max                   52.236739  "
      ]
     },
     "execution_count": 35,
     "metadata": {},
     "output_type": "execute_result"
    }
   ],
   "source": [
    "print(\"Total de observaciones: \", df.shape[0])\n",
    "print(\"Total de nulos: \", df.isna().sum().sum())\n",
    "print(\"Total de duplicados\", df.duplicated().sum().sum())\n",
    "\n",
    "df.describe()"
   ]
  },
  {
   "cell_type": "markdown",
   "metadata": {},
   "source": [
    "Como no hay problema en el dataset, verificamos si hay outliers"
   ]
  },
  {
   "cell_type": "code",
   "execution_count": 34,
   "metadata": {},
   "outputs": [
    {
     "data": {
      "text/plain": [
       "<Axes: >"
      ]
     },
     "execution_count": 34,
     "metadata": {},
     "output_type": "execute_result"
    },
    {
     "data": {
      "image/png": "[encoded data removed]",
      "text/plain": [
       "<Figure size 1000x600 with 1 Axes>"
      ]
     },
     "metadata": {},
     "output_type": "display_data"
    }
   ],
   "source": [
    "# Obtener outliers\n",
    "plt.figure(figsize=(10, 6))\n",
    "df.boxplot(column=['Accesos por cada 100 hogares', 'Accesos por cada 100 hab'])"
   ]
  },
  {
   "cell_type": "markdown",
   "metadata": {},
   "source": [
    "Como hay outliers, nos encargamos de eliminarlos."
   ]
  },
  {
   "cell_type": "code",
   "execution_count": 39,
   "metadata": {},
   "outputs": [
    {
     "data": {
      "text/plain": [
       "-920"
      ]
     },
     "execution_count": 39,
     "metadata": {},
     "output_type": "execute_result"
    }
   ],
   "source": [
    "# Obtener outliers de accesos por cada 100 hab\n",
    "\n",
    "q1 = df['Accesos por cada 100 hab'].quantile(0.25)\n",
    "q3 = df['Accesos por cada 100 hab'].quantile(0.75)\n",
    "\n",
    "iqr = q3 - q1\n",
    "\n",
    "lower_bound = q1 - 1.5 * iqr\n",
    "upper_bound = q3 + 1.5 * iqr\n",
    "\n",
    "outliers = df[(df['Accesos por cada 100 hab'] < lower_bound) | (df['Accesos por cada 100 hab'] > upper_bound)]"
   ]
  },
  {
   "cell_type": "code",
   "execution_count": null,
   "metadata": {},
   "outputs": [],
   "source": []
  }
 ],
 "metadata": {
  "kernelspec": {
   "display_name": "venv",
   "language": "python",
   "name": "python3"
  },
  "language_info": {
   "codemirror_mode": {
    "name": "ipython",
    "version": 3
   },
   "file_extension": ".py",
   "mimetype": "text/x-python",
   "name": "python",
   "nbconvert_exporter": "python",
   "pygments_lexer": "ipython3",
   "version": "3.12.3"
  }
 },
 "nbformat": 4,
 "nbformat_minor": 2
}
